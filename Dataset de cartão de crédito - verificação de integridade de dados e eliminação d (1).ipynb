{
 "cells": [
  {
   "cell_type": "markdown",
   "id": "5a195bf7",
   "metadata": {},
   "source": [
    "# Análise da qualidade dos dados - Empresa de cartão de crédito. Verificação de itens repetidos no dataset\n",
    "\n",
    "Dados demográficos e financeiros de 30 mil contas. \n",
    "Dataset: http://archive.ics.uci.edu/ml/datasets/default+of+credit+card+clients\n",
    "\n",
    "Objetivo: eliminar linhas duplicadas, após encontrá-las no dataset.\n",
    "\n",
    "Análise para treino de exercício indicado por Klosterman, Stephen (2019)"
   ]
  },
  {
   "cell_type": "code",
   "execution_count": 34,
   "id": "39a870fd",
   "metadata": {},
   "outputs": [],
   "source": [
    "import pandas as pd"
   ]
  },
  {
   "cell_type": "code",
   "execution_count": 35,
   "id": "7bc356f6",
   "metadata": {},
   "outputs": [],
   "source": [
    "df = pd.read_excel('default_of_credit_card_clients__courseware_version_1_21_19.xls')"
   ]
  },
  {
   "cell_type": "code",
   "execution_count": 36,
   "id": "6fea28ed",
   "metadata": {},
   "outputs": [
    {
     "data": {
      "text/plain": [
       "Index(['ID', 'LIMIT_BAL', 'SEX', 'EDUCATION', 'MARRIAGE', 'AGE', 'PAY_1',\n",
       "       'PAY_2', 'PAY_3', 'PAY_4', 'PAY_5', 'PAY_6', 'BILL_AMT1', 'BILL_AMT2',\n",
       "       'BILL_AMT3', 'BILL_AMT4', 'BILL_AMT5', 'BILL_AMT6', 'PAY_AMT1',\n",
       "       'PAY_AMT2', 'PAY_AMT3', 'PAY_AMT4', 'PAY_AMT5', 'PAY_AMT6',\n",
       "       'default payment next month'],\n",
       "      dtype='object')"
      ]
     },
     "execution_count": 36,
     "metadata": {},
     "output_type": "execute_result"
    }
   ],
   "source": [
    "df.columns"
   ]
  },
  {
   "cell_type": "code",
   "execution_count": 37,
   "id": "84767ee3",
   "metadata": {},
   "outputs": [
    {
     "data": {
      "text/html": [
       "<div>\n",
       "<style scoped>\n",
       "    .dataframe tbody tr th:only-of-type {\n",
       "        vertical-align: middle;\n",
       "    }\n",
       "\n",
       "    .dataframe tbody tr th {\n",
       "        vertical-align: top;\n",
       "    }\n",
       "\n",
       "    .dataframe thead th {\n",
       "        text-align: right;\n",
       "    }\n",
       "</style>\n",
       "<table border=\"1\" class=\"dataframe\">\n",
       "  <thead>\n",
       "    <tr style=\"text-align: right;\">\n",
       "      <th></th>\n",
       "      <th>ID</th>\n",
       "      <th>LIMIT_BAL</th>\n",
       "      <th>SEX</th>\n",
       "      <th>EDUCATION</th>\n",
       "      <th>MARRIAGE</th>\n",
       "      <th>AGE</th>\n",
       "      <th>PAY_1</th>\n",
       "      <th>PAY_2</th>\n",
       "      <th>PAY_3</th>\n",
       "      <th>PAY_4</th>\n",
       "      <th>...</th>\n",
       "      <th>BILL_AMT4</th>\n",
       "      <th>BILL_AMT5</th>\n",
       "      <th>BILL_AMT6</th>\n",
       "      <th>PAY_AMT1</th>\n",
       "      <th>PAY_AMT2</th>\n",
       "      <th>PAY_AMT3</th>\n",
       "      <th>PAY_AMT4</th>\n",
       "      <th>PAY_AMT5</th>\n",
       "      <th>PAY_AMT6</th>\n",
       "      <th>default payment next month</th>\n",
       "    </tr>\n",
       "  </thead>\n",
       "  <tbody>\n",
       "    <tr>\n",
       "      <th>0</th>\n",
       "      <td>798fc410-45c1</td>\n",
       "      <td>20000</td>\n",
       "      <td>2</td>\n",
       "      <td>2</td>\n",
       "      <td>1</td>\n",
       "      <td>24</td>\n",
       "      <td>2</td>\n",
       "      <td>2</td>\n",
       "      <td>-1</td>\n",
       "      <td>-1</td>\n",
       "      <td>...</td>\n",
       "      <td>0</td>\n",
       "      <td>0</td>\n",
       "      <td>0</td>\n",
       "      <td>0</td>\n",
       "      <td>689</td>\n",
       "      <td>0</td>\n",
       "      <td>0</td>\n",
       "      <td>0</td>\n",
       "      <td>0</td>\n",
       "      <td>1</td>\n",
       "    </tr>\n",
       "    <tr>\n",
       "      <th>1</th>\n",
       "      <td>8a8c8f3b-8eb4</td>\n",
       "      <td>120000</td>\n",
       "      <td>2</td>\n",
       "      <td>2</td>\n",
       "      <td>2</td>\n",
       "      <td>26</td>\n",
       "      <td>-1</td>\n",
       "      <td>2</td>\n",
       "      <td>0</td>\n",
       "      <td>0</td>\n",
       "      <td>...</td>\n",
       "      <td>3272</td>\n",
       "      <td>3455</td>\n",
       "      <td>3261</td>\n",
       "      <td>0</td>\n",
       "      <td>1000</td>\n",
       "      <td>1000</td>\n",
       "      <td>1000</td>\n",
       "      <td>0</td>\n",
       "      <td>2000</td>\n",
       "      <td>1</td>\n",
       "    </tr>\n",
       "    <tr>\n",
       "      <th>2</th>\n",
       "      <td>85698822-43f5</td>\n",
       "      <td>90000</td>\n",
       "      <td>2</td>\n",
       "      <td>2</td>\n",
       "      <td>2</td>\n",
       "      <td>34</td>\n",
       "      <td>0</td>\n",
       "      <td>0</td>\n",
       "      <td>0</td>\n",
       "      <td>0</td>\n",
       "      <td>...</td>\n",
       "      <td>14331</td>\n",
       "      <td>14948</td>\n",
       "      <td>15549</td>\n",
       "      <td>1518</td>\n",
       "      <td>1500</td>\n",
       "      <td>1000</td>\n",
       "      <td>1000</td>\n",
       "      <td>1000</td>\n",
       "      <td>5000</td>\n",
       "      <td>0</td>\n",
       "    </tr>\n",
       "    <tr>\n",
       "      <th>3</th>\n",
       "      <td>0737c11b-be42</td>\n",
       "      <td>50000</td>\n",
       "      <td>2</td>\n",
       "      <td>2</td>\n",
       "      <td>1</td>\n",
       "      <td>37</td>\n",
       "      <td>0</td>\n",
       "      <td>0</td>\n",
       "      <td>0</td>\n",
       "      <td>0</td>\n",
       "      <td>...</td>\n",
       "      <td>28314</td>\n",
       "      <td>28959</td>\n",
       "      <td>29547</td>\n",
       "      <td>2000</td>\n",
       "      <td>2019</td>\n",
       "      <td>1200</td>\n",
       "      <td>1100</td>\n",
       "      <td>1069</td>\n",
       "      <td>1000</td>\n",
       "      <td>0</td>\n",
       "    </tr>\n",
       "    <tr>\n",
       "      <th>4</th>\n",
       "      <td>3b7f77cc-dbc0</td>\n",
       "      <td>50000</td>\n",
       "      <td>1</td>\n",
       "      <td>2</td>\n",
       "      <td>1</td>\n",
       "      <td>57</td>\n",
       "      <td>-1</td>\n",
       "      <td>0</td>\n",
       "      <td>-1</td>\n",
       "      <td>0</td>\n",
       "      <td>...</td>\n",
       "      <td>20940</td>\n",
       "      <td>19146</td>\n",
       "      <td>19131</td>\n",
       "      <td>2000</td>\n",
       "      <td>36681</td>\n",
       "      <td>10000</td>\n",
       "      <td>9000</td>\n",
       "      <td>689</td>\n",
       "      <td>679</td>\n",
       "      <td>0</td>\n",
       "    </tr>\n",
       "  </tbody>\n",
       "</table>\n",
       "<p>5 rows × 25 columns</p>\n",
       "</div>"
      ],
      "text/plain": [
       "              ID  LIMIT_BAL  SEX  EDUCATION  MARRIAGE  AGE PAY_1  PAY_2  \\\n",
       "0  798fc410-45c1      20000    2          2         1   24     2      2   \n",
       "1  8a8c8f3b-8eb4     120000    2          2         2   26    -1      2   \n",
       "2  85698822-43f5      90000    2          2         2   34     0      0   \n",
       "3  0737c11b-be42      50000    2          2         1   37     0      0   \n",
       "4  3b7f77cc-dbc0      50000    1          2         1   57    -1      0   \n",
       "\n",
       "   PAY_3  PAY_4  ...  BILL_AMT4  BILL_AMT5  BILL_AMT6  PAY_AMT1  PAY_AMT2  \\\n",
       "0     -1     -1  ...          0          0          0         0       689   \n",
       "1      0      0  ...       3272       3455       3261         0      1000   \n",
       "2      0      0  ...      14331      14948      15549      1518      1500   \n",
       "3      0      0  ...      28314      28959      29547      2000      2019   \n",
       "4     -1      0  ...      20940      19146      19131      2000     36681   \n",
       "\n",
       "   PAY_AMT3  PAY_AMT4  PAY_AMT5  PAY_AMT6  default payment next month  \n",
       "0         0         0         0         0                           1  \n",
       "1      1000      1000         0      2000                           1  \n",
       "2      1000      1000      1000      5000                           0  \n",
       "3      1200      1100      1069      1000                           0  \n",
       "4     10000      9000       689       679                           0  \n",
       "\n",
       "[5 rows x 25 columns]"
      ]
     },
     "execution_count": 37,
     "metadata": {},
     "output_type": "execute_result"
    }
   ],
   "source": [
    "df.head() #Qual a configuração do data set? (Configuração das primeiras linhas)\n",
    "#Cada linha apresenta dados de um cliente, no período de seis meses."
   ]
  },
  {
   "cell_type": "code",
   "execution_count": 30,
   "id": "9fa68fce",
   "metadata": {},
   "outputs": [
    {
     "data": {
      "text/plain": [
       "(30000, 25)"
      ]
     },
     "execution_count": 30,
     "metadata": {},
     "output_type": "execute_result"
    }
   ],
   "source": [
    "df.shape  #Qual o total de linhas e colunas?"
   ]
  },
  {
   "cell_type": "code",
   "execution_count": 31,
   "id": "a3e3d4dc",
   "metadata": {},
   "outputs": [
    {
     "data": {
      "text/plain": [
       "29687"
      ]
     },
     "execution_count": 31,
     "metadata": {},
     "output_type": "execute_result"
    }
   ],
   "source": [
    "df['ID'].nunique() #Qual o total de itens únicos na coluna \"ID\"? (identificação)"
   ]
  },
  {
   "cell_type": "markdown",
   "id": "a3bf4c71",
   "metadata": {},
   "source": [
    "29687 do total de 30000 são dados únicos na coluna de identificação (ID)."
   ]
  },
  {
   "cell_type": "code",
   "execution_count": 9,
   "id": "763f75fb",
   "metadata": {},
   "outputs": [],
   "source": [
    "import numpy as  #Importando a biblioteca Numpy"
   ]
  },
  {
   "cell_type": "code",
   "execution_count": 32,
   "id": "174daa51",
   "metadata": {},
   "outputs": [
    {
     "data": {
      "text/plain": [
       "<bound method NDFrame.head of 6353fd55-d66e    2\n",
       "5ce60722-dbd1    2\n",
       "91c69d1a-8732    2\n",
       "bae9475e-7cad    2\n",
       "9c53fb07-9b73    2\n",
       "                ..\n",
       "75b27b0d-8a56    1\n",
       "70e7b8b0-3e7f    1\n",
       "f5b88b98-61a8    1\n",
       "b5fd6b02-4ac7    1\n",
       "f9d3332c-1ab1    1\n",
       "Name: ID, Length: 29687, dtype: int64>"
      ]
     },
     "execution_count": 32,
     "metadata": {},
     "output_type": "execute_result"
    }
   ],
   "source": [
    "id_counts = df['ID'].value_counts()     #Contagem de IDs têm mais de uma entrada (repetidos)?\n",
    "id_counts.head"
   ]
  },
  {
   "cell_type": "markdown",
   "id": "8ada55fd",
   "metadata": {},
   "source": [
    "Para encontrar as linhas duplicadas, criaremos uma máscara booleana que encontrará e contará as duplicatas na coluna ID."
   ]
  },
  {
   "cell_type": "code",
   "execution_count": 41,
   "id": "81f399eb",
   "metadata": {},
   "outputs": [
    {
     "data": {
      "text/plain": [
       "6353fd55-d66e    True\n",
       "5ce60722-dbd1    True\n",
       "91c69d1a-8732    True\n",
       "bae9475e-7cad    True\n",
       "9c53fb07-9b73    True\n",
       "Name: ID, dtype: bool"
      ]
     },
     "execution_count": 41,
     "metadata": {},
     "output_type": "execute_result"
    }
   ],
   "source": [
    "dupe_mask = id_counts == 2\n",
    "dupe_mask[0:5]"
   ]
  },
  {
   "cell_type": "markdown",
   "id": "3f04b0ea",
   "metadata": {},
   "source": [
    "Uma nova variável que denominaremos dupe_ids será criada para selecionar e armazenas os IDs duplicados."
   ]
  },
  {
   "cell_type": "code",
   "execution_count": 43,
   "id": "d57044eb",
   "metadata": {},
   "outputs": [],
   "source": [
    "dupe_ids = id_counts.index[dupe_mask]"
   ]
  },
  {
   "cell_type": "markdown",
   "id": "9086c2a7",
   "metadata": {},
   "source": [
    "O próximo comando converterá a variável criada acima (dupe_id) em uma lista, cujo tamanho verificaremos."
   ]
  },
  {
   "cell_type": "code",
   "execution_count": 44,
   "id": "ab1b44db",
   "metadata": {},
   "outputs": [
    {
     "data": {
      "text/plain": [
       "313"
      ]
     },
     "execution_count": 44,
     "metadata": {},
     "output_type": "execute_result"
    }
   ],
   "source": [
    "dupe_ids = list(dupe_ids)   #Criação da lista 'dupe_ids'\n",
    "len(dupe_ids)"
   ]
  },
  {
   "cell_type": "markdown",
   "id": "07f23c83",
   "metadata": {},
   "source": [
    "Verificamos acima que há 313 repetições de IDs, que deverão ser eliminados"
   ]
  },
  {
   "cell_type": "code",
   "execution_count": 45,
   "id": "f86cda5b",
   "metadata": {},
   "outputs": [
    {
     "data": {
      "text/plain": [
       "['6353fd55-d66e',\n",
       " '5ce60722-dbd1',\n",
       " '91c69d1a-8732',\n",
       " 'bae9475e-7cad',\n",
       " '9c53fb07-9b73',\n",
       " '04299d54-61d4',\n",
       " '56126c14-b5b8',\n",
       " '33b2b726-61a8']"
      ]
     },
     "execution_count": 45,
     "metadata": {},
     "output_type": "execute_result"
    }
   ],
   "source": [
    "dupe_ids[0:8]  #Listar com exemplos de IDs duplicados"
   ]
  },
  {
   "cell_type": "markdown",
   "id": "0c4e6c9a",
   "metadata": {},
   "source": [
    "O comando a seguir fará várias operações, incluindo criar nova máscara lógica, indexação e seleção do local das linhas "
   ]
  },
  {
   "cell_type": "code",
   "execution_count": 52,
   "id": "d9e29cec",
   "metadata": {},
   "outputs": [
    {
     "data": {
      "text/html": [
       "<div>\n",
       "<style scoped>\n",
       "    .dataframe tbody tr th:only-of-type {\n",
       "        vertical-align: middle;\n",
       "    }\n",
       "\n",
       "    .dataframe tbody tr th {\n",
       "        vertical-align: top;\n",
       "    }\n",
       "\n",
       "    .dataframe thead th {\n",
       "        text-align: right;\n",
       "    }\n",
       "</style>\n",
       "<table border=\"1\" class=\"dataframe\">\n",
       "  <thead>\n",
       "    <tr style=\"text-align: right;\">\n",
       "      <th></th>\n",
       "      <th>ID</th>\n",
       "      <th>LIMIT_BAL</th>\n",
       "      <th>SEX</th>\n",
       "      <th>EDUCATION</th>\n",
       "      <th>MARRIAGE</th>\n",
       "      <th>AGE</th>\n",
       "      <th>PAY_1</th>\n",
       "      <th>PAY_2</th>\n",
       "      <th>PAY_3</th>\n",
       "      <th>PAY_4</th>\n",
       "      <th>...</th>\n",
       "      <th>BILL_AMT4</th>\n",
       "      <th>BILL_AMT5</th>\n",
       "      <th>BILL_AMT6</th>\n",
       "      <th>PAY_AMT1</th>\n",
       "      <th>PAY_AMT2</th>\n",
       "      <th>PAY_AMT3</th>\n",
       "      <th>PAY_AMT4</th>\n",
       "      <th>PAY_AMT5</th>\n",
       "      <th>PAY_AMT6</th>\n",
       "      <th>default payment next month</th>\n",
       "    </tr>\n",
       "  </thead>\n",
       "  <tbody>\n",
       "    <tr>\n",
       "      <th>12769</th>\n",
       "      <td>91c69d1a-8732</td>\n",
       "      <td>70000</td>\n",
       "      <td>2</td>\n",
       "      <td>2</td>\n",
       "      <td>2</td>\n",
       "      <td>22</td>\n",
       "      <td>0</td>\n",
       "      <td>-1</td>\n",
       "      <td>0</td>\n",
       "      <td>0</td>\n",
       "      <td>...</td>\n",
       "      <td>50716</td>\n",
       "      <td>48862</td>\n",
       "      <td>49850</td>\n",
       "      <td>68209</td>\n",
       "      <td>2081</td>\n",
       "      <td>2000</td>\n",
       "      <td>2000</td>\n",
       "      <td>1828</td>\n",
       "      <td>1518</td>\n",
       "      <td>0</td>\n",
       "    </tr>\n",
       "    <tr>\n",
       "      <th>12869</th>\n",
       "      <td>91c69d1a-8732</td>\n",
       "      <td>0</td>\n",
       "      <td>0</td>\n",
       "      <td>0</td>\n",
       "      <td>0</td>\n",
       "      <td>0</td>\n",
       "      <td>0</td>\n",
       "      <td>0</td>\n",
       "      <td>0</td>\n",
       "      <td>0</td>\n",
       "      <td>...</td>\n",
       "      <td>0</td>\n",
       "      <td>0</td>\n",
       "      <td>0</td>\n",
       "      <td>0</td>\n",
       "      <td>0</td>\n",
       "      <td>0</td>\n",
       "      <td>0</td>\n",
       "      <td>0</td>\n",
       "      <td>0</td>\n",
       "      <td>0</td>\n",
       "    </tr>\n",
       "    <tr>\n",
       "      <th>21205</th>\n",
       "      <td>5ce60722-dbd1</td>\n",
       "      <td>150000</td>\n",
       "      <td>1</td>\n",
       "      <td>2</td>\n",
       "      <td>1</td>\n",
       "      <td>40</td>\n",
       "      <td>0</td>\n",
       "      <td>0</td>\n",
       "      <td>0</td>\n",
       "      <td>0</td>\n",
       "      <td>...</td>\n",
       "      <td>28265</td>\n",
       "      <td>25402</td>\n",
       "      <td>21514</td>\n",
       "      <td>35749</td>\n",
       "      <td>3016</td>\n",
       "      <td>1201</td>\n",
       "      <td>601</td>\n",
       "      <td>2002</td>\n",
       "      <td>1020</td>\n",
       "      <td>0</td>\n",
       "    </tr>\n",
       "    <tr>\n",
       "      <th>21305</th>\n",
       "      <td>5ce60722-dbd1</td>\n",
       "      <td>0</td>\n",
       "      <td>0</td>\n",
       "      <td>0</td>\n",
       "      <td>0</td>\n",
       "      <td>0</td>\n",
       "      <td>0</td>\n",
       "      <td>0</td>\n",
       "      <td>0</td>\n",
       "      <td>0</td>\n",
       "      <td>...</td>\n",
       "      <td>0</td>\n",
       "      <td>0</td>\n",
       "      <td>0</td>\n",
       "      <td>0</td>\n",
       "      <td>0</td>\n",
       "      <td>0</td>\n",
       "      <td>0</td>\n",
       "      <td>0</td>\n",
       "      <td>0</td>\n",
       "      <td>0</td>\n",
       "    </tr>\n",
       "    <tr>\n",
       "      <th>28499</th>\n",
       "      <td>6353fd55-d66e</td>\n",
       "      <td>260000</td>\n",
       "      <td>2</td>\n",
       "      <td>2</td>\n",
       "      <td>2</td>\n",
       "      <td>34</td>\n",
       "      <td>-2</td>\n",
       "      <td>-2</td>\n",
       "      <td>-2</td>\n",
       "      <td>-1</td>\n",
       "      <td>...</td>\n",
       "      <td>27500</td>\n",
       "      <td>27500</td>\n",
       "      <td>33880</td>\n",
       "      <td>2985</td>\n",
       "      <td>11247</td>\n",
       "      <td>27500</td>\n",
       "      <td>0</td>\n",
       "      <td>21380</td>\n",
       "      <td>0</td>\n",
       "      <td>0</td>\n",
       "    </tr>\n",
       "    <tr>\n",
       "      <th>28599</th>\n",
       "      <td>6353fd55-d66e</td>\n",
       "      <td>0</td>\n",
       "      <td>0</td>\n",
       "      <td>0</td>\n",
       "      <td>0</td>\n",
       "      <td>0</td>\n",
       "      <td>0</td>\n",
       "      <td>0</td>\n",
       "      <td>0</td>\n",
       "      <td>0</td>\n",
       "      <td>...</td>\n",
       "      <td>0</td>\n",
       "      <td>0</td>\n",
       "      <td>0</td>\n",
       "      <td>0</td>\n",
       "      <td>0</td>\n",
       "      <td>0</td>\n",
       "      <td>0</td>\n",
       "      <td>0</td>\n",
       "      <td>0</td>\n",
       "      <td>0</td>\n",
       "    </tr>\n",
       "  </tbody>\n",
       "</table>\n",
       "<p>6 rows × 25 columns</p>\n",
       "</div>"
      ],
      "text/plain": [
       "                  ID  LIMIT_BAL  SEX  EDUCATION  MARRIAGE  AGE PAY_1  PAY_2  \\\n",
       "12769  91c69d1a-8732      70000    2          2         2   22     0     -1   \n",
       "12869  91c69d1a-8732          0    0          0         0    0     0      0   \n",
       "21205  5ce60722-dbd1     150000    1          2         1   40     0      0   \n",
       "21305  5ce60722-dbd1          0    0          0         0    0     0      0   \n",
       "28499  6353fd55-d66e     260000    2          2         2   34    -2     -2   \n",
       "28599  6353fd55-d66e          0    0          0         0    0     0      0   \n",
       "\n",
       "       PAY_3  PAY_4  ...  BILL_AMT4  BILL_AMT5  BILL_AMT6  PAY_AMT1  PAY_AMT2  \\\n",
       "12769      0      0  ...      50716      48862      49850     68209      2081   \n",
       "12869      0      0  ...          0          0          0         0         0   \n",
       "21205      0      0  ...      28265      25402      21514     35749      3016   \n",
       "21305      0      0  ...          0          0          0         0         0   \n",
       "28499     -2     -1  ...      27500      27500      33880      2985     11247   \n",
       "28599      0      0  ...          0          0          0         0         0   \n",
       "\n",
       "       PAY_AMT3  PAY_AMT4  PAY_AMT5  PAY_AMT6  default payment next month  \n",
       "12769      2000      2000      1828      1518                           0  \n",
       "12869         0         0         0         0                           0  \n",
       "21205      1201       601      2002      1020                           0  \n",
       "21305         0         0         0         0                           0  \n",
       "28499     27500         0     21380         0                           0  \n",
       "28599         0         0         0         0                           0  \n",
       "\n",
       "[6 rows x 25 columns]"
      ]
     },
     "execution_count": 52,
     "metadata": {},
     "output_type": "execute_result"
    }
   ],
   "source": [
    "df.loc[df['ID'].isin(dupe_ids[0:3]),:].head(6)"
   ]
  },
  {
   "cell_type": "markdown",
   "id": "126e6c8e",
   "metadata": {},
   "source": [
    "A segunda linha repete o ID da primeira com zeros em todas as colunas. Para eliminar as duplicadas, utilizaremos uma matriz booleana"
   ]
  },
  {
   "cell_type": "code",
   "execution_count": 54,
   "id": "c9ba3be0",
   "metadata": {},
   "outputs": [],
   "source": [
    "df_máscara_zeros = df == 0  #Criação da matriz booleana"
   ]
  },
  {
   "cell_type": "code",
   "execution_count": 55,
   "id": "caf79739",
   "metadata": {},
   "outputs": [],
   "source": [
    "características_máscara_zero = df_máscara_zeros.iloc[:,1:].all(axis=1) #"
   ]
  },
  {
   "cell_type": "code",
   "execution_count": 56,
   "id": "f88d01d6",
   "metadata": {},
   "outputs": [
    {
     "data": {
      "text/plain": [
       "315"
      ]
     },
     "execution_count": 56,
     "metadata": {},
     "output_type": "execute_result"
    }
   ],
   "source": [
    "sum(características_máscara_zero) #Soma da série booleana"
   ]
  },
  {
   "cell_type": "markdown",
   "id": "438a999a",
   "metadata": {},
   "source": [
    "# Apagar as linhas que tinham ID repetido e demais colunas com zeros. Criação de novo dataframe (copy)."
   ]
  },
  {
   "cell_type": "code",
   "execution_count": 58,
   "id": "9dffd6d7",
   "metadata": {},
   "outputs": [],
   "source": [
    "df_limpo_1 = df.loc[~características_máscara_zero,:].copy()"
   ]
  },
  {
   "cell_type": "markdown",
   "id": "07772ebf",
   "metadata": {},
   "source": [
    "Estamos agora operando com o df_limpo_1"
   ]
  },
  {
   "cell_type": "markdown",
   "id": "3e1edf2c",
   "metadata": {},
   "source": [
    "Estão selecionados todos que não são zero (~)"
   ]
  },
  {
   "cell_type": "code",
   "execution_count": 59,
   "id": "733ae4c7",
   "metadata": {},
   "outputs": [
    {
     "data": {
      "text/plain": [
       "(29685, 25)"
      ]
     },
     "execution_count": 59,
     "metadata": {},
     "output_type": "execute_result"
    }
   ],
   "source": [
    "df_limpo_1.shape"
   ]
  },
  {
   "cell_type": "code",
   "execution_count": 60,
   "id": "3a588151",
   "metadata": {},
   "outputs": [
    {
     "data": {
      "text/plain": [
       "29685"
      ]
     },
     "execution_count": 60,
     "metadata": {},
     "output_type": "execute_result"
    }
   ],
   "source": [
    "df_limpo_1['ID'].nunique()"
   ]
  }
 ],
 "metadata": {
  "kernelspec": {
   "display_name": "Python 3",
   "language": "python",
   "name": "python3"
  },
  "language_info": {
   "codemirror_mode": {
    "name": "ipython",
    "version": 3
   },
   "file_extension": ".py",
   "mimetype": "text/x-python",
   "name": "python",
   "nbconvert_exporter": "python",
   "pygments_lexer": "ipython3",
   "version": "3.8.8"
  }
 },
 "nbformat": 4,
 "nbformat_minor": 5
}
